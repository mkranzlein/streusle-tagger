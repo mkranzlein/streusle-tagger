{
 "cells": [
  {
   "cell_type": "markdown",
   "metadata": {},
   "source": [
    "## DiMSUM Confidence Scores\n",
    "\n",
    "- Modified dimsum_to_jsonl.py to include label field by composing subtag fields into one string\n",
    "- Read dimsum using dataset_reader\n",
    "- Convert all.csv to all_newlabels.csv"
   ]
  },
  {
   "cell_type": "code",
   "execution_count": 1,
   "metadata": {},
   "outputs": [
    {
     "name": "stdout",
     "output_type": "stream",
     "text": [
      "C:\\Michael\\dev\\streusle-tagger\n"
     ]
    }
   ],
   "source": [
    "# Notebook starts in notebooks folder. Change working directory back to streusle-tagger\n",
    "%cd ../../../"
   ]
  },
  {
   "cell_type": "code",
   "execution_count": 4,
   "metadata": {},
   "outputs": [
    {
     "name": "stderr",
     "output_type": "stream",
     "text": [
      "C:\\Michael\\apps\\Anaconda3\\envs\\allen\\lib\\site-packages\\allennlp\\service\\predictors\\__init__.py:23: FutureWarning: allennlp.service.predictors.* has been depreciated. Please use allennlp.predictors.*\n",
      "  \"Please use allennlp.predictors.*\", FutureWarning)\n",
      "C:\\Michael\\apps\\Anaconda3\\envs\\allen\\lib\\site-packages\\allennlp\\service\\predictors\\predictor.py:6: FutureWarning: allennlp.service.predictors.* has been deprecated. Please use allennlp.predictors.*\n",
      "  \" Please use allennlp.predictors.*\", FutureWarning)\n",
      "_jsonnet not loaded, treating training_config/streusle_bert_large_cased/streusle_bert_large_cased_no_constraints.jsonnet as json\n",
      "Your BERT model appears to be cased, but your indexer is lowercasing tokens.\n",
      "The pre-trained model you are loading is a cased model but you have not set `do_lower_case` to False. We are setting `do_lower_case=False` for you but you may want to check this behavior.\n",
      "2723it [00:00, 6119.42it/s]\n",
      "554it [00:00, 5651.72it/s]\n",
      "535it [00:00, 12446.63it/s]\n",
      "Your BERT model appears to be cased, but your indexer is lowercasing tokens.\n",
      "The pre-trained model you are loading is a cased model but you have not set `do_lower_case` to False. We are setting `do_lower_case=False` for you but you may want to check this behavior.\n"
     ]
    }
   ],
   "source": [
    "# System imports\n",
    "import json\n",
    "import math\n",
    "import os\n",
    "import pickle\n",
    "import sys\n",
    "\n",
    "from copy import deepcopy\n",
    "\n",
    "# Add parent of streusle-tagger to path (streusle should be in this folder)\n",
    "sys.path.append(\"../streusle\")\n",
    "\n",
    "# External imports\n",
    "import allennlp.nn.util as util\n",
    "import numpy as np\n",
    "import pandas as pd\n",
    "\n",
    "from allennlp.common import Params\n",
    "from allennlp.common.util import import_submodules\n",
    "from allennlp.data.dataset_readers import DatasetReader\n",
    "from allennlp.training.util import datasets_from_params\n",
    "\n",
    "import_submodules(\"streusle_tagger\")\n",
    "\n",
    "params = Params.from_file(\"training_config/streusle_bert_large_cased/streusle_bert_large_cased_no_constraints.jsonnet\")\n",
    "datasets = datasets_from_params(deepcopy(params))\n",
    "dataset_reader_params = deepcopy(params).pop(\"dataset_reader\")\n",
    "dataset_reader = DatasetReader.from_params(dataset_reader_params)"
   ]
  },
  {
   "cell_type": "code",
   "execution_count": null,
   "metadata": {},
   "outputs": [],
   "source": [
    "with open(\"calibration/consolidated_labels.pickle\", \"rb\") as f:\n",
    "    new_labels = pickle.load(f)\n",
    "\n",
    "dimsum_consolidated_path = \"calibration/confidence_scores/dimsum_test/all_consolidated.csv\""
   ]
  },
  {
   "cell_type": "code",
   "execution_count": 3,
   "metadata": {},
   "outputs": [
    {
     "name": "stdout",
     "output_type": "stream",
     "text": [
      "0\n"
     ]
    },
    {
     "ename": "KeyError",
     "evalue": "'source'",
     "output_type": "error",
     "traceback": [
      "\u001b[1;31m---------------------------------------------------------------------------\u001b[0m",
      "\u001b[1;31mKeyError\u001b[0m                                  Traceback (most recent call last)",
      "\u001b[1;32m<ipython-input-3-af1b7bfc9d06>\u001b[0m in \u001b[0;36m<module>\u001b[1;34m\u001b[0m\n\u001b[0;32m     22\u001b[0m             \u001b[1;32myield\u001b[0m \u001b[0mdataset_reader\u001b[0m\u001b[1;33m.\u001b[0m\u001b[0mtext_to_instance\u001b[0m\u001b[1;33m(\u001b[0m\u001b[0mtokens\u001b[0m\u001b[1;33m,\u001b[0m \u001b[0mupos_tags\u001b[0m\u001b[1;33m,\u001b[0m \u001b[0mlemmas\u001b[0m\u001b[1;33m,\u001b[0m \u001b[0mlabels\u001b[0m\u001b[1;33m,\u001b[0m \u001b[0msources\u001b[0m\u001b[1;33m)\u001b[0m\u001b[1;33m\u001b[0m\u001b[1;33m\u001b[0m\u001b[0m\n\u001b[0;32m     23\u001b[0m \u001b[1;33m\u001b[0m\u001b[0m\n\u001b[1;32m---> 24\u001b[1;33m \u001b[0mdimsum_test\u001b[0m \u001b[1;33m=\u001b[0m \u001b[0mlist\u001b[0m\u001b[1;33m(\u001b[0m\u001b[0mread\u001b[0m\u001b[1;33m(\u001b[0m\u001b[0mdimsum_test_path\u001b[0m\u001b[1;33m)\u001b[0m\u001b[1;33m)\u001b[0m\u001b[1;33m\u001b[0m\u001b[1;33m\u001b[0m\u001b[0m\n\u001b[0m",
      "\u001b[1;32m<ipython-input-3-af1b7bfc9d06>\u001b[0m in \u001b[0;36mread\u001b[1;34m(file_path)\u001b[0m\n\u001b[0;32m     18\u001b[0m             \u001b[0mlabels\u001b[0m \u001b[1;33m=\u001b[0m \u001b[1;33m[\u001b[0m\u001b[0m_\u001b[0m \u001b[1;32mfor\u001b[0m \u001b[0m_\u001b[0m \u001b[1;32min\u001b[0m \u001b[0mx\u001b[0m\u001b[1;33m[\u001b[0m\u001b[1;34m\"label\"\u001b[0m\u001b[1;33m]\u001b[0m\u001b[1;33m]\u001b[0m\u001b[1;33m\u001b[0m\u001b[1;33m\u001b[0m\u001b[0m\n\u001b[0;32m     19\u001b[0m \u001b[1;33m\u001b[0m\u001b[0m\n\u001b[1;32m---> 20\u001b[1;33m             \u001b[0msources\u001b[0m \u001b[1;33m=\u001b[0m \u001b[1;33m[\u001b[0m\u001b[0m_\u001b[0m \u001b[1;32mfor\u001b[0m \u001b[0m_\u001b[0m \u001b[1;32min\u001b[0m \u001b[0mx\u001b[0m\u001b[1;33m[\u001b[0m\u001b[1;34m\"source\"\u001b[0m\u001b[1;33m]\u001b[0m\u001b[1;33m]\u001b[0m\u001b[1;33m\u001b[0m\u001b[1;33m\u001b[0m\u001b[0m\n\u001b[0m\u001b[0;32m     21\u001b[0m \u001b[1;33m\u001b[0m\u001b[0m\n\u001b[0;32m     22\u001b[0m             \u001b[1;32myield\u001b[0m \u001b[0mdataset_reader\u001b[0m\u001b[1;33m.\u001b[0m\u001b[0mtext_to_instance\u001b[0m\u001b[1;33m(\u001b[0m\u001b[0mtokens\u001b[0m\u001b[1;33m,\u001b[0m \u001b[0mupos_tags\u001b[0m\u001b[1;33m,\u001b[0m \u001b[0mlemmas\u001b[0m\u001b[1;33m,\u001b[0m \u001b[0mlabels\u001b[0m\u001b[1;33m,\u001b[0m \u001b[0msources\u001b[0m\u001b[1;33m)\u001b[0m\u001b[1;33m\u001b[0m\u001b[1;33m\u001b[0m\u001b[0m\n",
      "\u001b[1;31mKeyError\u001b[0m: 'source'"
     ]
    }
   ],
   "source": [
    "labels_df = pd.read_csv(\"calibration/labels_dict.csv\")\n",
    "\n",
    "dimsum_test_path = \"data/dimsum16/dimsum16_test_updated_labeled_reformatted.json\"\n",
    "\n",
    "def read(file_path):\n",
    "    with open(file_path, 'r') as tagging_file:\n",
    "        tagging_data = json.load(tagging_file)\n",
    "        for i, x in enumerate(tagging_data):\n",
    "            if i % 200 == 0:\n",
    "                print(i)\n",
    "            tokens = [_ for _ in x[\"tokens\"]]\n",
    "            # Get their associated upos\n",
    "            upos_tags = [_ for _ in x[\"upos_tags\"]]\n",
    "\n",
    "            # Get their associated lemma\n",
    "            lemmas = [_ for _ in x[\"lemmas\"]]\n",
    "            \n",
    "            labels = [_ for _ in x[\"label\"]]\n",
    "            \n",
    "            yield dataset_reader.text_to_instance(tokens, upos_tags, lemmas, labels)\n",
    "            \n",
    "dimsum_test = list(read(dimsum_test_path))"
   ]
  },
  {
   "cell_type": "code",
   "execution_count": null,
   "metadata": {},
   "outputs": [],
   "source": [
    "ground = []\n",
    "for i in dimsum_test:\n",
    "    ground.extend(i.get(\"tags\").labels)"
   ]
  },
  {
   "cell_type": "code",
   "execution_count": null,
   "metadata": {},
   "outputs": [],
   "source": [
    "corrected_ground = []\n",
    "\n",
    "# If there's a noun or verb supersense label, the lexcat has to be NOUN or VERB (exceptions are usually due to MWEs)\n",
    "for g in ground:\n",
    "    if \"-n.\" in g and \"NOUN\" not in g:\n",
    "        x = g[:g.index(\"-\", 1) + 1] + \"NOUN\" + g[g.index(\"-\", 2):]\n",
    "    elif \"-v.\" in g and \"VERB\" not in g:\n",
    "        x = g[:g.index(\"-\", 1) + 1] + \"VERB\" + g[g.index(\"-\", 2):]\n",
    "    else:\n",
    "        x = g\n",
    "    corrected_ground.append(x)"
   ]
  },
  {
   "cell_type": "code",
   "execution_count": null,
   "metadata": {},
   "outputs": [],
   "source": [
    "# Merge the CSVs for all sentences and save the merged version\n",
    "confidence_scores_path = \"calibration/confidence_scores/dimsum_test\"\n",
    "\n",
    "dfs = []\n",
    "for filename in os.listdir(confidence_scores_path):\n",
    "    if filename.startswith(\"0\") and filename.endswith(\".csv\"):\n",
    "        df = pd.read_csv(f\"{confidence_scores_path}/{filename}\")\n",
    "        dfs.append(df)\n",
    "df = pd.concat(dfs, ignore_index=True)\n",
    "\n",
    "df.to_csv(f\"{confidence_scores_path}/all.csv\", index=False)"
   ]
  },
  {
   "cell_type": "code",
   "execution_count": null,
   "metadata": {},
   "outputs": [],
   "source": [
    "dimsum_df = pd.read_csv(f\"{confidence_scores_path}/all.csv\")\n",
    "dimsum_df.head()"
   ]
  },
  {
   "cell_type": "code",
   "execution_count": null,
   "metadata": {},
   "outputs": [],
   "source": [
    "# Currently running confidence scores, so only use corrected ground up to what has been calculated so far.\n",
    "dimsum_df[\"Ground\"] = corrected_ground[0:len(dimsum_df)]"
   ]
  },
  {
   "cell_type": "code",
   "execution_count": null,
   "metadata": {},
   "outputs": [],
   "source": [
    "new_df_columns = [\"Token Index\", \"Tokens\", \"Predicted Tag\", \"Predicted Index\", \"Ground\", \"Ground Index\"] + list(new_labels.keys())\n",
    "new_df_columns\n",
    "new_df = pd.DataFrame(columns=new_df_columns)\n",
    "\n",
    "new_df[\"Token Index\"] = dimsum_df[\"Unnamed: 0\"]\n",
    "new_df[\"Tokens\"] = dimsum_df[\"Tokens\"]\n",
    "\n",
    "old_index_to_new_label = {}\n",
    "for k, v in new_labels.items():\n",
    "    for num in v:\n",
    "        old_index_to_new_label[num] = k\n",
    "\n",
    "new_labels_list = list(new_labels)\n",
    "new_label_to_new_index = dict(zip(new_labels_list, list(range(len(new_labels_list)))))"
   ]
  },
  {
   "cell_type": "code",
   "execution_count": null,
   "metadata": {},
   "outputs": [],
   "source": [
    "# Get predicted labels and indexes using consolidated labelset\n",
    "predicted_labels = []\n",
    "predicted_label_indexes = []\n",
    "for index in dimsum_df[\"Predicted Tag Indexes\"]:\n",
    "    new_label = old_index_to_new_label[index]\n",
    "    predicted_labels.append(new_label)\n",
    "    new_index = new_label_to_new_index[new_label]\n",
    "    predicted_label_indexes.append(new_index)"
   ]
  },
  {
   "cell_type": "code",
   "execution_count": null,
   "metadata": {},
   "outputs": [],
   "source": [
    "labels_map = {\"CCONJ\": \"CONJ\",\n",
    "              \"DISC\": \"X\",\n",
    "              \"INF\": \"PART\",\n",
    "              \"INF.P\" : \"PART\",\n",
    "              \"N\": \"NOUN\",\n",
    "              \"P\": \"ADP\",\n",
    "              \"POSS\": \"PART\",\n",
    "              \"PP\": \"ADP\",\n",
    "              \"PRON.POSS\": \"PRON\",\n",
    "              \"V\":\n",
    "              \"VERB\",\n",
    "              \"V.IAV\":\"VERB\",\n",
    "              \"V.LVC.cause\": \"VERB\",\n",
    "              \"V.LVC.full\": \"VERB\",\n",
    "              \"V.VID\": \"VERB\",\n",
    "              \"V.VPC.full\": \"VERB\",\n",
    "              \"V.VPC.semi\": \"VERB\",\n",
    "              \"_\": \"X\"}\n",
    "\n",
    "ground_indexes = []\n",
    "for i, label in enumerate(dimsum_df[\"Ground\"]):\n",
    "    \n",
    "    label = label.replace(\"natural_object\", \"naturalobject\")\n",
    "    label = label.replace(\"PROPN\", \"NOUN\")\n",
    "    \n",
    "    # For dealing with manually annotated cases where \"lexcat=\" note is provided\n",
    "    if \"lexcat=\" in label:\n",
    "        new_lexcat = label[label.index(\"=\") + 1:]\n",
    "        mapped_new_lexcat = labels_map[new_lexcat] if new_lexcat in labels_map else new_lexcat\n",
    "        new_label = label[:label.index(\"-\") + 1] + mapped_new_lexcat\n",
    "        ground_indexes.append(new_label_to_new_index[new_label])\n",
    "        continue\n",
    "    try:\n",
    "        if label.startswith(\"I\"):\n",
    "            ground_indexes.append(new_label_to_new_index[\"I-X\"])\n",
    "        elif label.startswith(\"i\"):\n",
    "            ground_indexes.append(new_label_to_new_index[\"i-X\"])\n",
    "        else:\n",
    "            ground_indexes.append(new_label_to_new_index[label])\n",
    "    except:\n",
    "        print(i, \"\\t\", label)\n",
    "        ground_indexes.append(\"-1\")"
   ]
  },
  {
   "cell_type": "code",
   "execution_count": null,
   "metadata": {},
   "outputs": [],
   "source": [
    "new_df[\"Predicted Tag\"] = predicted_labels\n",
    "new_df[\"Predicted Index\"] = predicted_label_indexes\n",
    "new_df[\"Ground\"] = dimsum_df[\"Ground\"]\n",
    "new_df[\"Ground Index\"] = ground_indexes"
   ]
  },
  {
   "cell_type": "code",
   "execution_count": null,
   "metadata": {},
   "outputs": [],
   "source": [
    "new_df.head()"
   ]
  },
  {
   "cell_type": "code",
   "execution_count": null,
   "metadata": {},
   "outputs": [],
   "source": [
    "def sum_scores(new_label, row_index):\n",
    "    score_sum = 0\n",
    "    \n",
    "    for i in new_labels[new_label]:\n",
    "        score_sum += dimsum_df[str(i)][row_index]\n",
    "        \n",
    "    return score_sum"
   ]
  },
  {
   "cell_type": "code",
   "execution_count": null,
   "metadata": {},
   "outputs": [],
   "source": [
    "score_column_names = list(new_df.columns)[6:]\n",
    "\n",
    "score_columns = {}\n",
    "for c in score_column_names:\n",
    "    score_columns[c] = []\n",
    "for i, row in new_df.iterrows():\n",
    "    for c in score_column_names:\n",
    "        score_columns[c].append(sum_scores(c, i))\n",
    "\n",
    "for c in score_column_names:\n",
    "    new_df[c] = score_columns[c]"
   ]
  },
  {
   "cell_type": "code",
   "execution_count": null,
   "metadata": {},
   "outputs": [],
   "source": [
    "new_df.head()"
   ]
  },
  {
   "cell_type": "code",
   "execution_count": null,
   "metadata": {},
   "outputs": [],
   "source": [
    "new_df.to_csv(dimsum_consolidated_path, index=False)"
   ]
  }
 ],
 "metadata": {
  "kernelspec": {
   "display_name": "allen",
   "language": "python",
   "name": "allen"
  },
  "language_info": {
   "codemirror_mode": {
    "name": "ipython",
    "version": 3
   },
   "file_extension": ".py",
   "mimetype": "text/x-python",
   "name": "python",
   "nbconvert_exporter": "python",
   "pygments_lexer": "ipython3",
   "version": "3.7.5"
  }
 },
 "nbformat": 4,
 "nbformat_minor": 4
}
