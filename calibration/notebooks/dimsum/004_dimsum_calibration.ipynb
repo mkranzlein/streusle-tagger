{
 "cells": [
  {
   "cell_type": "markdown",
   "metadata": {},
   "source": [
    "# Dimsum Calibration\n",
    "\n",
    "1. Use adaptive binning on STREUSLE validation set with consolidated labels.\n",
    "2. Use the bin boundaries from the STREUSLE validation set to calibrate dimsum_test."
   ]
  },
  {
   "cell_type": "code",
   "execution_count": 1,
   "metadata": {},
   "outputs": [
    {
     "name": "stdout",
     "output_type": "stream",
     "text": [
      "C:\\Michael\\dev\\streusle-tagger\n"
     ]
    }
   ],
   "source": [
    "# Notebook starts in notebooks folder. Change working directory back to streusle-tagger\n",
    "%cd ../../../"
   ]
  },
  {
   "cell_type": "code",
   "execution_count": 2,
   "metadata": {},
   "outputs": [],
   "source": [
    "import itertools\n",
    "import math\n",
    "\n",
    "import matplotlib.pyplot as plt\n",
    "import matplotlib.lines as mlines\n",
    "import numpy as np\n",
    "import pandas as pd\n",
    "import sklearn.metrics\n",
    "\n",
    "%matplotlib inline"
   ]
  },
  {
   "cell_type": "code",
   "execution_count": 3,
   "metadata": {},
   "outputs": [],
   "source": [
    "def adaptive_binning(confidence_scores, labels, bin_size):\n",
    "    \"\"\"Assign (confidence_score, label) pairs to bins based on confidence_score.\"\"\"\n",
    "    \n",
    "    num_bins = math.floor(len(confidence_scores) / bin_size)\n",
    "    \n",
    "    bins = []\n",
    "    for i in range(num_bins):\n",
    "        bins.append([])\n",
    "    b = 0\n",
    "    \n",
    "    # Sort the data by score and put items in bins\n",
    "    # Add integer index for recovering original order when measuring calibrated F1\n",
    "    sorted_data = sorted(zip(confidence_scores, labels, list(range(len(confidence_scores)))), key=lambda x: x[0])\n",
    "    for (score, label, index) in sorted_data:\n",
    "        if len(bins[b]) < bin_size:\n",
    "            bins[b].append((score, label, index))\n",
    "        elif b == num_bins - 1:\n",
    "            bins[b].append((score, label, index))\n",
    "        else:\n",
    "            b += 1\n",
    "            bins[b].append((score, label, index))\n",
    "    \n",
    "    print(\"Items in last bin: \", len(bins[-1]))\n",
    "    \n",
    "    return bins"
   ]
  },
  {
   "cell_type": "code",
   "execution_count": 4,
   "metadata": {},
   "outputs": [],
   "source": [
    "def estimate_calibration_error(bins):\n",
    "    \"\"\"Estimate calibration error from binned confidence scores and labels.\"\"\"\n",
    "    bin_square_errors = []\n",
    "    average_scores = []\n",
    "    average_labels = []\n",
    "    square_errors = []\n",
    "    for i, bin_i in enumerate(bins):\n",
    "        average_score = sum([x for (x, y, z) in bin_i]) / len(bin_i)\n",
    "        average_label = sum([y for (x, y, z) in bin_i]) / len(bin_i)\n",
    "        average_scores.append(average_score)\n",
    "        average_labels.append(average_label)\n",
    "        square_error = (average_score - average_label) ** 2\n",
    "        square_errors.append(square_error)\n",
    "        bin_square_errors.append(len(bin_i) * square_error)\n",
    "        \n",
    "    calibration_error = math.sqrt(np.mean(bin_square_errors))\n",
    "    return average_scores, average_labels, calibration_error"
   ]
  },
  {
   "cell_type": "markdown",
   "metadata": {},
   "source": [
    "### Binning confidence scores from STREUSLE validation set"
   ]
  },
  {
   "cell_type": "code",
   "execution_count": 5,
   "metadata": {},
   "outputs": [],
   "source": [
    "streusle_df = pd.read_csv(\"calibration/confidence_scores/validation/all_consolidated.csv\")\n",
    "\n",
    "labelset = streusle_df.columns[6:]\n",
    "label_to_index = dict(zip(labelset, list(range(len(labelset)))))\n",
    "\n",
    "streusle_confidence_scores = []\n",
    "streusle_labels = []\n",
    "\n",
    "for i, row in streusle_df.iterrows():\n",
    "    confidence_scores = row[6:]\n",
    "    label = row[4]\n",
    "    label_index = label_to_index[label]\n",
    "    binary_labels = np.zeros(len(labelset))\n",
    "    binary_labels[label_index] = 1\n",
    "    streusle_confidence_scores.append(list(confidence_scores))\n",
    "    streusle_labels.append(list(binary_labels))\n",
    "    \n",
    "# These are both lists of lists. Flatten into single list.\n",
    "streusle_confidence_scores = list(itertools.chain(*streusle_confidence_scores))\n",
    "streusle_labels = list(itertools.chain(*streusle_labels))"
   ]
  },
  {
   "cell_type": "code",
   "execution_count": 6,
   "metadata": {},
   "outputs": [
    {
     "name": "stdout",
     "output_type": "stream",
     "text": [
      "Items in last bin:  252\n",
      "Streusle validation set calibration error:  0.06466709380755645\n"
     ]
    }
   ],
   "source": [
    "bin_size = 200\n",
    "streusle_bins = adaptive_binning(streusle_confidence_scores, streusle_labels, bin_size)\n",
    "\n",
    "streusle_average_scores, streusle_average_labels, streusle_calibration_error = estimate_calibration_error(streusle_bins)\n",
    "print(\"Streusle validation set calibration error: \", streusle_calibration_error)"
   ]
  },
  {
   "cell_type": "markdown",
   "metadata": {},
   "source": [
    "### Putting DiMSUM scores in bins based on STREUSLE validation bin boundaries"
   ]
  },
  {
   "cell_type": "code",
   "execution_count": 7,
   "metadata": {},
   "outputs": [],
   "source": [
    "dimsum_df = pd.read_csv(\"calibration/confidence_scores/dimsum_test/all_consolidated.csv\")\n",
    "\n",
    "dimsum_confidence_scores = []\n",
    "dimsum_labels = []\n",
    "\n",
    "for i, row in dimsum_df.iterrows():\n",
    "    label_index = row[5]\n",
    "    \n",
    "    # If a row has a label_index of -1, that means it couldn't be mapped to the consolidated labelset and should be ingored.\n",
    "    # These cases are rare (< 20)\n",
    "    if label_index == -1:\n",
    "        continue\n",
    "        \n",
    "    confidence_scores = row[6:]\n",
    "    binary_labels = np.zeros(len(labelset))\n",
    "    binary_labels[label_index] = 1\n",
    "    dimsum_confidence_scores.append(list(confidence_scores))\n",
    "    dimsum_labels.append(list(binary_labels))\n",
    "\n",
    "# These are both lists of lists. Flatten into single list.\n",
    "dimsum_confidence_scores = list(itertools.chain(*dimsum_confidence_scores))\n",
    "dimsum_labels = list(itertools.chain(*dimsum_labels))"
   ]
  },
  {
   "cell_type": "code",
   "execution_count": 8,
   "metadata": {},
   "outputs": [],
   "source": [
    "bin_info = []\n",
    "for i, b in enumerate(streusle_bins):\n",
    "    scores = list(zip(*b))[0]\n",
    "    try:\n",
    "        if i == 0:\n",
    "            bin_info.append([-1, max(scores), streusle_average_labels[i]])\n",
    "        else:\n",
    "            bin_info.append([bin_info[i - 1][1], max(scores), streusle_average_labels[i]])\n",
    "    except:\n",
    "        print(bin_info[i-1])"
   ]
  },
  {
   "cell_type": "code",
   "execution_count": 9,
   "metadata": {},
   "outputs": [],
   "source": [
    "def histogram_binning(confidence_scores, labels, bin_boundaries):\n",
    "    \"\"\"Bins confidence scores from second dataset according to boundaries determined in first dataset.\"\"\"\n",
    "    \n",
    "    sorted_data = sorted(zip(confidence_scores, labels, list(range(len(confidence_scores)))), key=lambda x: x[0])\n",
    "    \n",
    "    num_bins = len(bin_boundaries)\n",
    "    bins = []\n",
    "    for i in range(num_bins):\n",
    "        bins.append([])\n",
    "    b = 0\n",
    "    bin_boundaries[-1][1] = 999\n",
    "    bin_boundaries[0][0] = -1\n",
    "    start_bin = 0\n",
    "    for j, (score, label, cell_id) in enumerate(sorted_data):\n",
    "        for i, (low, high, _) in enumerate(bin_boundaries[start_bin:]):\n",
    "            # Handle case where low equals high\n",
    "            if low == high:\n",
    "                if len(bins[i + start_bin] < bin_size):\n",
    "                    bins[i + start_bin].append((score, label, cell_id))\n",
    "                    start_bin = start_bin + i\n",
    "            elif score >= low and score < high:\n",
    "                bins[i + start_bin].append((score, label, cell_id))\n",
    "                start_bin = start_bin + i\n",
    "                break\n",
    "    return bins"
   ]
  },
  {
   "cell_type": "code",
   "execution_count": 22,
   "metadata": {},
   "outputs": [],
   "source": [
    "dimsum_bins = histogram_binning(dimsum_confidence_scores, dimsum_labels, bin_info)"
   ]
  },
  {
   "cell_type": "code",
   "execution_count": 23,
   "metadata": {},
   "outputs": [
    {
     "name": "stdout",
     "output_type": "stream",
     "text": [
      "272\n",
      "1845\n"
     ]
    }
   ],
   "source": [
    "# Ideally, these numbers will be fairly close to each other.\n",
    "print(min([len(b) for b in dimsum_bins]))\n",
    "print(max([len(b) for b in dimsum_bins]))"
   ]
  },
  {
   "cell_type": "code",
   "execution_count": 25,
   "metadata": {},
   "outputs": [
    {
     "name": "stdout",
     "output_type": "stream",
     "text": [
      "0.33037352095179573\n"
     ]
    }
   ],
   "source": [
    "dimsum_average_scores, dismum_average_labels, dimsum_uncalibrated_ce = estimate_calibration_error(dimsum_bins)\n",
    "print(dimsum_uncalibrated_ce)"
   ]
  },
  {
   "cell_type": "code",
   "execution_count": 28,
   "metadata": {},
   "outputs": [
    {
     "data": {
      "text/plain": [
       "<matplotlib.collections.PathCollection at 0x281609134c8>"
      ]
     },
     "execution_count": 28,
     "metadata": {},
     "output_type": "execute_result"
    },
    {
     "data": {
      "image/png": "[encoded data removed]",
      "text/plain": [
       "<Figure size 432x288 with 1 Axes>"
      ]
     },
     "metadata": {
      "needs_background": "light"
     },
     "output_type": "display_data"
    }
   ],
   "source": [
    "plt.scatter(dimsum_average_scores, [len(b) for b in dimsum_bins])"
   ]
  },
  {
   "cell_type": "code",
   "execution_count": 13,
   "metadata": {},
   "outputs": [],
   "source": [
    "calibrated_confidence_scores = []\n",
    "\n",
    "for i, b in enumerate(dimsum_bins):\n",
    "    bin_scores = [bin_info[i][2]] * len(b)\n",
    "    bin_labels = list(zip(*b))[1]\n",
    "    score_ids = list(zip(*b))[2]\n",
    "    calibrated_confidence_scores.append(list(zip(bin_scores, bin_labels, score_ids)))"
   ]
  },
  {
   "cell_type": "markdown",
   "metadata": {},
   "source": [
    "### Results"
   ]
  },
  {
   "cell_type": "code",
   "execution_count": 14,
   "metadata": {},
   "outputs": [],
   "source": [
    "dimsum_calibrated_average_scores, dimsum_calibrated_average_labels, dimsum_calibrated_ce = estimate_calibration_error(calibrated_confidence_scores)"
   ]
  },
  {
   "cell_type": "code",
   "execution_count": 15,
   "metadata": {},
   "outputs": [
    {
     "name": "stdout",
     "output_type": "stream",
     "text": [
      "DimSUM Calibration Error (uncalibrated):  0.33037352095179573\n",
      "DimSUM Calibration Error (calibrated):  0.245468766854978\n"
     ]
    }
   ],
   "source": [
    "print(\"DimSUM Calibration Error (uncalibrated): \", dimsum_uncalibrated_ce)\n",
    "print(\"DimSUM Calibration Error (calibrated): \", dimsum_calibrated_ce)"
   ]
  },
  {
   "cell_type": "code",
   "execution_count": 16,
   "metadata": {},
   "outputs": [
    {
     "data": {
      "text/plain": [
       "<matplotlib.lines.Line2D at 0x2811fbb21c8>"
      ]
     },
     "execution_count": 16,
     "metadata": {},
     "output_type": "execute_result"
    },
    {
     "data": {
      "image/png": "[encoded data removed]",
      "text/plain": [
       "<Figure size 432x288 with 1 Axes>"
      ]
     },
     "metadata": {
      "needs_background": "light"
     },
     "output_type": "display_data"
    }
   ],
   "source": [
    "fig, ax = plt.subplots()\n",
    "plt.scatter(streusle_average_scores, streusle_average_labels)\n",
    "plt.title(f\"STREUSLE Validation Uncalibrated Scores (bin_size={bin_size})\")\n",
    "line = mlines.Line2D([0, 1], [0, 1], color='red')\n",
    "transform = ax.transAxes\n",
    "ax.set_ylabel('Average Label of Bin')\n",
    "ax.set_xlabel('Average Confidence Score of Bin')\n",
    "line.set_transform(transform)\n",
    "ax.add_line(line)"
   ]
  },
  {
   "cell_type": "code",
   "execution_count": 32,
   "metadata": {},
   "outputs": [
    {
     "data": {
      "text/plain": [
       "<matplotlib.lines.Line2D at 0x28163ff28c8>"
      ]
     },
     "execution_count": 32,
     "metadata": {},
     "output_type": "execute_result"
    },
    {
     "data": {
      "image/png": "[encoded data removed]",
      "text/plain": [
       "<Figure size 432x288 with 1 Axes>"
      ]
     },
     "metadata": {
      "needs_background": "light"
     },
     "output_type": "display_data"
    }
   ],
   "source": [
    "fig, ax = plt.subplots()\n",
    "plt.scatter(dimsum_average_scores, dismum_average_labels)\n",
    "plt.title(f\"DiMSUM Uncalibrated Scores (bin_size={bin_size})\")\n",
    "line = mlines.Line2D([0, 1], [0, 1], color='red')\n",
    "transform = ax.transAxes\n",
    "ax.set_ylabel('Average Label of Bin')\n",
    "ax.set_xlabel('Average Confidence Score of Bin')\n",
    "line.set_transform(transform)\n",
    "ax.add_line(line)"
   ]
  },
  {
   "cell_type": "code",
   "execution_count": 18,
   "metadata": {},
   "outputs": [
    {
     "data": {
      "text/plain": [
       "<matplotlib.lines.Line2D at 0x2814766c148>"
      ]
     },
     "execution_count": 18,
     "metadata": {},
     "output_type": "execute_result"
    },
    {
     "data": {
      "image/png": "[encoded data removed]",
      "text/plain": [
       "<Figure size 432x288 with 1 Axes>"
      ]
     },
     "metadata": {
      "needs_background": "light"
     },
     "output_type": "display_data"
    }
   ],
   "source": [
    "fig, ax = plt.subplots()\n",
    "plt.scatter(dimsum_calibrated_average_scores, dimsum_calibrated_average_labels)\n",
    "plt.title(f\"DiMSUM Calibrated Scores (bin_size={bin_size})\")\n",
    "line = mlines.Line2D([0, 1], [0, 1], color='red')\n",
    "transform = ax.transAxes\n",
    "ax.set_ylabel('Average Label of Bin')\n",
    "ax.set_xlabel('Average Confidence Score of Bin')\n",
    "line.set_transform(transform)\n",
    "ax.add_line(line)"
   ]
  },
  {
   "cell_type": "markdown",
   "metadata": {},
   "source": [
    "These graphs for DiMSUM show that in general, the model tends to be overconfident in its predictions."
   ]
  },
  {
   "cell_type": "markdown",
   "metadata": {},
   "source": [
    "### DiMSUM with its own Bins"
   ]
  },
  {
   "cell_type": "code",
   "execution_count": 19,
   "metadata": {},
   "outputs": [
    {
     "name": "stdout",
     "output_type": "stream",
     "text": [
      "Items in last bin:  262\n"
     ]
    }
   ],
   "source": [
    "dimsum_bins = adaptive_binning(dimsum_confidence_scores, dimsum_labels, bin_size)\n",
    "\n",
    "dimsum_average_scores, dimsum_average_labels, dimsum_calibration_error = estimate_calibration_error(dimsum_bins)"
   ]
  },
  {
   "cell_type": "code",
   "execution_count": 20,
   "metadata": {},
   "outputs": [
    {
     "data": {
      "text/plain": [
       "0.19441692399060526"
      ]
     },
     "execution_count": 20,
     "metadata": {},
     "output_type": "execute_result"
    }
   ],
   "source": [
    "dimsum_calibration_error"
   ]
  },
  {
   "cell_type": "code",
   "execution_count": 38,
   "metadata": {},
   "outputs": [
    {
     "name": "stdout",
     "output_type": "stream",
     "text": [
      "341\n"
     ]
    }
   ],
   "source": [
    "count = 0\n",
    "for x in streusle_df[\"Ground\"]:\n",
    "    if x.startswith(\"B\"):\n",
    "        count += 1\n",
    "print(count)"
   ]
  },
  {
   "cell_type": "markdown",
   "metadata": {},
   "source": [
    "Above is how calibrated the model is on DiMSUM when it sets its own bin boundaries instead of using the boundaries of the STREUSLE bins. This figure is roughly 3 times the estimated calibration error on the STREUSLE validation set, relfecting the fact the the model is by default better calibrated for STREUSLE data than it is for DiMSUM data. Achieving this calibration error or lower with the STREUSLE bins is a best-case scenario."
   ]
  },
  {
   "cell_type": "markdown",
   "metadata": {},
   "source": [
    "## F1 Analysis"
   ]
  },
  {
   "cell_type": "markdown",
   "metadata": {},
   "source": [
    "### DiMSUM (Test) F1"
   ]
  },
  {
   "cell_type": "code",
   "execution_count": 39,
   "metadata": {},
   "outputs": [],
   "source": [
    "flattened_calibrated_confidence_scores = list(itertools.chain(*calibrated_confidence_scores))\n",
    "scores_by_index = list(sorted(flattened_calibrated_confidence_scores, key=lambda x: x[2]))"
   ]
  },
  {
   "cell_type": "code",
   "execution_count": 40,
   "metadata": {},
   "outputs": [
    {
     "data": {
      "text/plain": [
       "158"
      ]
     },
     "execution_count": 40,
     "metadata": {},
     "output_type": "execute_result"
    }
   ],
   "source": [
    "len(labelset)"
   ]
  },
  {
   "cell_type": "code",
   "execution_count": 73,
   "metadata": {},
   "outputs": [],
   "source": [
    "calibrated_scores = list(zip(*scores_by_index))[0]\n",
    "calibrated_scores = np.array(calibrated_scores).reshape(-1, 158)\n",
    "\n",
    "denominators = calibrated_scores.sum(axis=1)\n",
    "\n",
    "# Calibrated scores don't sum to 1, so normalize\n",
    "normalized_rows = []\n",
    "for i in range(16489):\n",
    "    normalized_row = [calibrated_scores[i][j] / denominators[i] for j in range(158)]\n",
    "    normalized_rows.append(normalized_row)\n",
    "\n",
    "# New prediction is max of calibrated score\n",
    "calibrated_predictions = np.argmax(np.array(normalized_rows), axis=1)\n",
    "\n",
    "dimsum_predictions = []\n",
    "dimsum_indexes = []\n",
    "# Ignore items with invalid ground truth label\n",
    "for i, x in enumerate(dimsum_df[\"Predicted Index\"]):\n",
    "    if dimsum_df.iloc[i][5] != -1:\n",
    "        dimsum_predictions.append(x)\n",
    "\n",
    "dimsum_indexes = []\n",
    "for x in dimsum_df[\"Ground Index\"]:\n",
    "    if x != -1:\n",
    "        dimsum_indexes.append(x)"
   ]
  },
  {
   "cell_type": "code",
   "execution_count": 75,
   "metadata": {},
   "outputs": [
    {
     "name": "stdout",
     "output_type": "stream",
     "text": [
      "0.6891260840560374\n",
      "Post-calibration F1:  0.6789981199587604\n"
     ]
    }
   ],
   "source": [
    "print(sklearn.metrics.f1_score(dimsum_indexes, dimsum_predictions, average=\"micro\"))\n",
    "\n",
    "calibrated_f1 = sklearn.metrics.f1_score(dimsum_indexes, calibrated_predictions, average=\"micro\")\n",
    "print(\"Post-calibration F1: \", calibrated_f1)"
   ]
  },
  {
   "cell_type": "markdown",
   "metadata": {},
   "source": [
    "Note: This is **not true F1 on DiMSUM**. This is F1 on DiMSUM using the consolidated labelset produced for calibration."
   ]
  },
  {
   "cell_type": "markdown",
   "metadata": {},
   "source": [
    "### STREUSLE (Validation) F1"
   ]
  },
  {
   "cell_type": "code",
   "execution_count": 79,
   "metadata": {},
   "outputs": [
    {
     "name": "stdout",
     "output_type": "stream",
     "text": [
      "0.8479792361883575\n"
     ]
    }
   ],
   "source": [
    "print(sklearn.metrics.f1_score(streusle_df[\"Ground Index\"], streusle_df[\"Predicted Index\"], average=\"micro\"))"
   ]
  }
 ],
 "metadata": {
  "kernelspec": {
   "display_name": "allen",
   "language": "python",
   "name": "allen"
  },
  "language_info": {
   "codemirror_mode": {
    "name": "ipython",
    "version": 3
   },
   "file_extension": ".py",
   "mimetype": "text/x-python",
   "name": "python",
   "nbconvert_exporter": "python",
   "pygments_lexer": "ipython3",
   "version": "3.7.5"
  }
 },
 "nbformat": 4,
 "nbformat_minor": 4
}
